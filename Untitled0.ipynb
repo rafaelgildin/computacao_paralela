{
  "nbformat": 4,
  "nbformat_minor": 0,
  "metadata": {
    "colab": {
      "provenance": [],
      "authorship_tag": "ABX9TyOp39gA9IDhMNtTfnIp+BUy",
      "include_colab_link": true
    },
    "kernelspec": {
      "name": "python3",
      "display_name": "Python 3"
    },
    "language_info": {
      "name": "python"
    }
  },
  "cells": [
    {
      "cell_type": "markdown",
      "metadata": {
        "id": "view-in-github",
        "colab_type": "text"
      },
      "source": [
        "<a href=\"https://colab.research.google.com/github/rafaelgildin/computacao-paralela/blob/master/Untitled0.ipynb\" target=\"_parent\"><img src=\"https://colab.research.google.com/assets/colab-badge.svg\" alt=\"Open In Colab\"/></a>"
      ]
    },
    {
      "cell_type": "code",
      "source": [
        "!git clone https://github.com/profmariomenezes/compdist-mpi-start.git"
      ],
      "metadata": {
        "colab": {
          "base_uri": "https://localhost:8080/"
        },
        "id": "6hjRztAXWDmn",
        "outputId": "76f8e737-b583-455e-a007-b5774cce24d7"
      },
      "execution_count": 2,
      "outputs": [
        {
          "output_type": "stream",
          "name": "stdout",
          "text": [
            "Cloning into 'compdist-mpi-start'...\n",
            "remote: Enumerating objects: 30, done.\u001b[K\n",
            "remote: Counting objects: 100% (30/30), done.\u001b[K\n",
            "remote: Compressing objects: 100% (27/27), done.\u001b[K\n",
            "remote: Total 30 (delta 12), reused 0 (delta 0), pack-reused 0\u001b[K\n",
            "Unpacking objects: 100% (30/30), 10.25 KiB | 1.14 MiB/s, done.\n"
          ]
        }
      ]
    },
    {
      "cell_type": "code",
      "source": [
        "!ls"
      ],
      "metadata": {
        "colab": {
          "base_uri": "https://localhost:8080/"
        },
        "id": "2I76k0FGWFPX",
        "outputId": "151b80d6-bee0-4d42-e285-86265c39b264"
      },
      "execution_count": 3,
      "outputs": [
        {
          "output_type": "stream",
          "name": "stdout",
          "text": [
            "compdist-mpi-start  sample_data\n"
          ]
        }
      ]
    },
    {
      "cell_type": "code",
      "source": [
        "runningMPI-in-Colab.ipynb\n",
        "\n",
        "Célula de texto <view-in-github>\n",
        "# %% [markdown]\n",
        "<a href=\"https://colab.research.google.com/github/profmariomenezes/compdist-mpi-start/blob/master/runningMPI_in_Colab.ipynb\" target=\"_parent\"><img src=\"https://colab.research.google.com/assets/colab-badge.svg\" alt=\"Open In Colab\"/></a>\n",
        "\n",
        "Célula de código <wT_CNHAL8KG_>\n",
        "# %% [code]\n",
        "!apt install openmpi-bin openmpi-common libopenmpi-dev\n",
        "\n",
        "Célula de código <IjyITTZb8X4b>\n",
        "# %% [code]\n",
        "%%writefile teste-mpi.c\n",
        "#include \"mpi.h\"\n",
        "#include <stdio.h>\n",
        "#include <math.h>\n",
        "#include <unistd.h>\n",
        "#include <stdlib.h>\n",
        "\n",
        "#define MAXSIZE 1000\n",
        "int main(int argc, char **argv)\n",
        "{\n",
        "\tint myid, numprocs;\n",
        "\tint data[MAXSIZE], i, x, low, high, myresult=0, result=0;\n",
        "\tFILE *fp;\n",
        "\tMPI_Init(&argc,&argv);\n",
        "\tMPI_Comm_size(MPI_COMM_WORLD,&numprocs);\n",
        "\tMPI_Comm_rank(MPI_COMM_WORLD,&myid);\n",
        "\tif (myid == 0) {  /* Open input file and initialize data */\n",
        "\t\tif ((fp = fopen(\"rand.txt\",\"r\")) == NULL) {\n",
        "\t\t\tprintf(\"Can't open the input file: rand.txt\\n\\n\");\n",
        "\t\t\texit(1);\n",
        "\t\t}\n",
        "\t\tfor(i = 0; i < MAXSIZE; i++) fscanf(fp,\"%d\\n\", &data[i]);\n",
        "\t}\n",
        "\tMPI_Bcast(data, MAXSIZE, MPI_INT, 0, MPI_COMM_WORLD); /* broadcast data */\n",
        "\tx = MAXSIZE/numprocs; /* Add my portion Of data */\n",
        "\tlow = myid * x;\n",
        "\thigh = low + x;\n",
        "\tfor(i = low; i < high; i++)\n",
        "\t\tmyresult += data[i];\n",
        "\tchar hostname[30];\n",
        "\tgethostname(hostname, 30);\n",
        "\tprintf(\"I got %d from %d - %s\\n\", myresult, myid, hostname); /* Compute global sum */\n",
        "\tMPI_Reduce(&myresult, &result, 1, MPI_INT, MPI_SUM, 0, MPI_COMM_WORLD);\n",
        "\tif (myid == 0) printf(\"The sum is %d.\\n\", result);\n",
        "\tMPI_Finalize();\n",
        "\treturn 0;\n",
        "}\n",
        "\n",
        "\n",
        "\n",
        "Célula de código <e2YZ_O_e8y9s>\n",
        "# %% [code]\n",
        "!mpicc -o teste-mpi teste-mpi.c\n",
        "\n",
        "Célula de código <2bGIuJ1q85NZ>\n",
        "# %% [code]\n",
        "!mpiexec  --allow-run-as-root -n 4 ./teste-mpi\n",
        "\n",
        "\n"
      ],
      "metadata": {
        "id": "lP4uVV_TWHdY"
      },
      "execution_count": null,
      "outputs": []
    }
  ]
}